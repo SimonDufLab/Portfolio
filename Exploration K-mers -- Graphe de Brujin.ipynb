{
 "cells": [
  {
   "cell_type": "markdown",
   "metadata": {},
   "source": [
    "## Exploration de séquences contigües à partir de k-mers\n",
    "\n",
    "Le code suivant a été réalisé dans le cadre du projet 2 du cours de Structure de données.\n",
    "\n",
    "Il s'agissait de construire un graphe de Brujin permettant de reconstruire des segments possibles d'ADN. Le graphe est construit à partir d'une liste de séquences desquelles sont extraits les k-mers. Par la suite, l'exploration du graphe permet de reconstruire toutes les séquences possibles (sans boucle) débutant à une racine. Une fois ces séquences obtenues, on les compare à des structures de gènes connues qu'on souhaite identifier dans les séquences d'ADN étudiées.\n",
    "\n",
    "K-Mer : sous-chaîne de k caractères contigües contenue dans une séquence. Pour une séquence de longueur L, il y aura L-k+1 k-mers. Dans le cas de l'ADN, les caractères sont \"ATCG\" et la séquence \"AATGTTGCGAGCGTCGTAGT\" contient 16 5-mers, dont \"GTTGC\" et \"GTAGT\".\n",
    "\n",
    "Graphe De Brujin : Graphe où chaque noeud est un k-mer et les successeurs d'un noeud sont les k-mers suivant possibles (par exemple pour le 3-mers \"ATA\" les successeurs possibles sont \"TAA\", \"TAC\", \"TAG\" et \"TAT\") présents dans les séquences étudiées et, de même, les parents d'un noeud sont les prédecesseurs du k-mer présents dans les séquences étudiées.\n",
    "\n",
    "### Particularités du projet\n",
    "\n",
    "Le graphe de Brujin devait être implanté à l'aide d'un dictionnaire, sans toutefois utiliser les classes built-in de Python dict(), set(), frozenset() etc. Sa structure est contenue dans le fichier graph.py\n",
    "\n",
    "Le graphe de Brujin construits extrait les 21-mers présents dans le fichier \"reads.fastq.gz\" contenant plusieurs milliers de séquences de 100 caractères d'ADN. Pour chacune de ces séqences, 80 21-mers sont extraits et rajoutés au graphe, et les pointeurs vers les successeurs/prédecesseurs de chacun de ces 21-mers sont créés au fur et à mesure. Les redondances sont ignorées.\n",
    "\n",
    "On fois le graphe construit, on identifie tous les noeud sans parent du graphe et on les parcourt pour produire tous les trajets possibles à partir de ces racines, en s'empêchant toutefois de parcourir une boucle. Les semgments contigüs identifiés possibles sont enregistrés dans le fichier \"contig.fasta\". (possiblement long de plusieurs centaines de caractères)\n",
    "\n",
    "Finalement, on compare les segments contigüs avec les gènes que l'on désire identifier et on rapporte les occurences. Les gènes en question sont comparés à chacune des séquences pour voir s'ils sont présents dans le segment. Remarquons que les gènes étudiés doivent être plus court (ou de même longueur) que les séquences pouvant les contenir. Les occurences sont rapportés dans le fichier \"occurences.bed\"."
   ]
  },
  {
   "cell_type": "code",
   "execution_count": 1,
   "metadata": {},
   "outputs": [],
   "source": [
    "#On importe ici les fichiers dont on aura besoin\n",
    "\n",
    "from graph import *         #Note: le fichier graph contient un mapping qui doit être loadé pour que la\n",
    "                                #fonction de hâchage s'effectue correctement\n",
    "import gzip\n",
    "\n",
    "all_seq=[]\n",
    "\n",
    "with gzip.open('reads.fastq.gz',mode='rt') as f:\n",
    "    for sequid in f:\n",
    "        seq, _, qual = f.readline(),f.readline(),f.readline()\n",
    "        seq = seq[:-1]\n",
    "        all_seq.append(seq)\n",
    "        \n",
    "def read_fasta(path):\n",
    "    with gzip.open(path, 'rt') as f:\n",
    "        accession, description, seq = None, None, None\n",
    "        for line in f:\n",
    "            if line[0] == '>':\n",
    "            # yield current record\n",
    "                if accession is not None:\n",
    "                    yield accession, description, seq\n",
    "    # start a new record\n",
    "                accession, description = line[1:].rstrip().split(maxsplit=1)\n",
    "                seq = ''\n",
    "            else:\n",
    "                seq += line.rstrip()"
   ]
  },
  {
   "cell_type": "markdown",
   "metadata": {},
   "source": [
    "## 2a) Encodage de tous les K-mers"
   ]
  },
  {
   "cell_type": "code",
   "execution_count": 2,
   "metadata": {},
   "outputs": [
    {
     "name": "stdout",
     "output_type": "stream",
     "text": [
      "0.499127344768041\n"
     ]
    }
   ],
   "source": [
    "NotreGraph = DeBrujinGraph(all_seq)\n",
    "print(NotreGraph.load_factor())         #On vérifie que la capacité est respectée initialement"
   ]
  },
  {
   "cell_type": "markdown",
   "metadata": {},
   "source": [
    "# 3 Parcourir le graphe et produire les segments contiguës"
   ]
  },
  {
   "cell_type": "code",
   "execution_count": 3,
   "metadata": {
    "scrolled": true
   },
   "outputs": [
    {
     "name": "stdout",
     "output_type": "stream",
     "text": [
      "La plus longue séquence (ou une des) contiguë est:\n",
      "\n",
      "CAATCGTCCTACGCACCATCATCGTCACGCAACGCCTTCTCTCAATCACCACATCGTGATTGGAGTGCTTCAACTGTCTACGACAGAGTTTATAACTCGAATAGTGATGTAGAGCGCACTCTGTCTCCAAGTGATCCATCGAGAAATCGCAATATTCGAGAGACAACAACCGTCATCCACAGAACTCCGTCGCCAACTGGTTTGAGATCTACTCAGATCACTGAGACAATCACTCGCACAACTCACCGGTCACCGTCACCACCCAGAGGAGTTTCCAACACCTCTTTCGGAAGTGTCAGAACCCAAGAGTTTGCCGAACGTATTGCCCGCTCTCCATCCCCAACTGGATACGAAAGAGAATTTGTTGAGAAGCGAACAACCTATAGGTCACCATCGCCGGCAAGAACATCAAGTGTGGCTCACTCCCATATTAGTGAGGTTCCACTTTCTCCAATTCAAGGAATGGATACTCCGTTTGATCATCATGAACGTGTGAAGAAAGTTGAGAGAATGGATCCATTGGCTGATGAAGAAGAACGTGAACAGAGAAGAAATCAGCTTGAAAGAGATTCTAAAAACACTCTAGGATACACTGTTGCTCAATATGGTGATGGTGAAAAACGATATTTTGGAGACACACTTGAAAAAAAGGATCGACCACCATCTGCTGGATACTACTCATCTGTTCAGCAAAGATCAACATCTCCAGAGTACTCGACAGTTTACGAGCGATATGACAGAAAGAGCGAAAAACCAGATTTGCCGCCAAGAGTTGAAGGTCATGTCTCTGCAAGCTACAAGGGATATGAGCCAGTTTACTCTGAAGTGACAACAACTAGAACCACGACTACTACAGAATACGAGAACATTGACAAAAAACCAAATGTGCCAAAAAAGAGAGCTACTACTCCAGAAGGACACGTTGAGCCAGTAAATGACAATGAGGAAAAAGATAGACAAGCATTCTTGAGAACTCAATCTGAAAAAGTATTCGAGCCAGTTGATGCTCCACTTCGCCGTTCAGACGAGAAGGAATCAATTTATGATCTTCCACCTCAAGAAAGACTTCATAAATACCCGGAGGAACCAACTATTGCTCTGGGTGAAAAAGCCAATACTTCAGCAATTGCCGCATACACAAAAGGACGACAGGACGATATTGATGAAGTTTCTCGAAATGCATCTTTCCCATCTGCACCAACAATTAACTACAATGAACGTTCAGATGAAGTTTCCAACTACAACAGGACAAAAGAAGATCATTACGGAGTTGTTGGAGAATACCCAACAGCACCAAAAATTGCATACTCTGATAGCAAGGAAGCAGTCATTCGTGAGCATTATGCACAAGCAAAGGAAGATCCATACGCGACTGTGGGAGAATGTCCGCCAGCTCCAGAAATTTCATTGAGATCAGATAAATTGAATGAGACTAAAAATGAGTACCGTCGTACAACAGACTCAGATCAGCAAGATGGTAAAGCAGGCCCACCACCTCCAGTGATTGAGATTAGCAAAGCCGAACAAGCTCGCAGAACAGAAGAGTATCTACGCGTGAAATCAGAAGATGATAAGATTCTTGCCAAACACGGCTTCACAAGAAAGCCAGAGCCATCAATTGAGATTCAAGAGCCAGTTACCGAGCAGATTCGGGACGATGTAGTTGAAACCGCGATTGCTCCAGAAGTTCCACTGAGACCTGTTGAAGAACTTCCACACTCTCCAGCTCCATCCTCTAGAAGTACTCCAGCCACCACACCGAAGTTATCAGCCAAGTTTAGAAAAGATGGTAAAGAAGGTAAACCTTTCGACTTTGGAAAAAGCAAATTTGTTTGCAAACATGATGTCATCAAAAGAGGAAAAGAAGTGGAGGTTAAGCTTGAAGGAATAAAGTTGGGAAAAGAAGATCAACTTCGTGTCGTTGTTTTGCCCCCTGCTAATAAAGCAATTCCTGGAGCAAATGGAGGACCACCAACAGAAGTTGATACCAAAGTGAAAAAGAGCAGCAGCAAATACGAGATTAGCTTCAAACCAACAGAAGTTGGAACACACAAGGTGTTTGCCTATGTAAATGACATGCAACATCCGCTTTCACCATTCGCTGTCCGTGTCTACGACGCGTCGGAAATTATCGTCGGCGAAATTCCGAATCAATCAAATCTCAATGACACCGTTGAGTTCACGGTTGACGCCGGTCGCGCTGGTTTCGGAAATCTCGAGATGGCTATTAAGGATGCTGATGGTGTCATCATTCCTTCTCATGTTGCACAACTTGAAAGTGGATCGGCCAAGTTTTTAGTGACTTTCACACCAGCTACAAAAGGGCCTCATACAGTTAACATTACTTTCAACAAGGAAGTTCTCAAAAACTCGCCATTTGAAGTGAACATTGTTGATGCTCCACTCCCTGCTCCAGTTGTTCTCGAACCAGCTTCTGGAGCCTCTGCAGTTGCTTCCCCATCACTGAGCAAAAAAGAGTTGAAGGAACAAGAAAAAGAAAAGAAAAGAGAAGAGAAGGAACGGGCCAAGCGCGAGAAAGAAGAACGCGCCACTCTGAAAAAGGAGAAAAAGAGCAAGTCACATAGATTCCCCGCCAAAACTACCGTTTCCAAAATTCCGTCGCTTTCCAGGGTTGGACAACCGTCCTCCCTTGTAGTTGAGGTATCCGGTCACGATCAACTTGAGATTCGTGTCCTTGATAGCAAAAAGAGTGAGATTGGAACGGATATTGTAGAAATTGAGCCAGGACACATGCAAATTAATTTCACACCAGCTCAAGTTGGCGATCACGAGATTGATGTTCGATATGGAGGTGTGCCTGTAACAGGATCACCATTCACTTGCAGAGCCTACGATCCAGCTAAGATTAAAGTCGGAGCAATTCCAAAGGGCCTTCTGGATAAACCCGTATACTTCACAGTTGATGCATCTGAAGCTGGTGTTGGAAATCTTGAAGTTGCTGTCTGCGAAGGACGTGTTCCATCAATGGCACACGCTCTTGGACACCACAAGTACGACATTTCGTTTGTGCCAAAGGAAGACGTTGACCATACTATCACTGTTCGATTTAACAATGAGCCAGTCCCAGGGTCTCCTTTCTTGTGTCAACTTGTTGCAACTGCGCAAGCAACTGCTACTGGTGCAGGTCTCGAAAGAATCCCAGTCGACGAAGAAACCGAAATTCAAATTCTTACCGACGAGATCGATTCGGCTCCAGAAGCACGTGTTCGTGATCCACAAGGAAACGATCTACCAGTCAACGTGACTCGCAGCCGTGAAAACGAAACGCTCCACATCGCCACTTATGTGCCAAAATGTGTCGGAAACCACTTGATTGACATTTTCCTCCAAGGAGAGCCAATTGCGGGATCTCCATTTACCGCAAAAGCATATGACGCTAGAAAAACTGTGTTGGTCCCACCAGCAAATGCAGTCGTTGGAAAGCCTGCGACATTTGTCATCGATGCTGCCCGCTCTGGTGCTGGAAACATGGAGATCATCGTCTCGGTCGACAACCGAAATGTTCCAAATTTCGTTCAAGCTGAAGGACAAGCTCGATTCAAAGTTTCTTTCACACCACAGGACGCCAAAGATCACACCATCAGCGTGAAGTTCAATGGAATCAGTGTTCCAGGATCTCCACTTATCTGCAGTGTGAGCTCAGCTGGGTCAGTGCCAGCCGCTGTCGTTCTTCCAGCTGCAGCAGTAATTGGAGCAGAAACTGCAGTTGCTGCTAGAGAGCGTATCAAGCACACTCCTCAACACTCGTCAGAACAAATCAAGCAAACAACTACAACGGTTCTCCAAAAGACGCCAGAAATTAGAGAGACAGTTGAGAAGACTGGATTGGCCAGAGAATTGAATTCTGCTCAAATCGGACAAAAGAAAGGATTTACAATTGATAATATCAACAAATCTTCAGATTGCAATGTCATTATCACAGATCCAAAAGGAGGACCGCTTCCAGTTCGTTGCTACAAACAGCAAGACGACAGTTATTGGGTAGAATTCACACCGGAACACCTTGGAACTCACACCATCGAGGTCACTTTTGGTGATGTTCCTGTGCCAGGATCTCCTTTCAAGACTGAAGTTATCGACCCAAAGAATGTGGAAATTCGTGGTCTCTCTGATCAAGTTTTGCTTCGACATGCTACCACTATTAACGTTGATCGTCGTAATGCTGGAAATGGAGAGCTTCAAGTTGAAATCACTGACCCGACCGGATCTCCACTACGCACAGAAATGCTCAAATCTCCTGGTGGCGAAGACCGTATTACTTTCTTGCCAAACCAAACTGGACCCCACAAGATTAATGTGAAGGTTGCTGGATTCCAGATCCCTGGATATCCACAAACAATATTGGTTAGCGAGCAAGAAAAACCAGCGGTTTATGGTGCTGCTGTTGATCAATCGATCAAGATCGGAGAGCCGGCTTCTCTGATTTTCGATCCAAAAAAGACAAATGGAGGACTCAAAATTCACGCAACAGGTCCAGATGGACAAAAAGTGCACCACAACGTAATGCGTAGACCAAATGGCACATCAGAAGTTGTCTTCTATCCTGAGGAAACTGGAACTTACAATGTCAGCATTGACTTCAATAACCGTCCAATCACCGGAAGCCCATTCACCGTGAATGTTGTCGACCCAACCAAGGTCATTGTTAACGACCTAGACATGGATCGCGATGGAACTCTTCTCCTCAGACTTGGTCACTCGAACTCATTTGATGTTGACGCGACGGCAGCCGGACCCGGCAAACTTCGCGCGGAAGTTCGAGACGCCGACAGTTCGCTGATCGGCAATGGCCCGGTTGTCGAGGACATGGGACAGGGAAAATACCGCGTTCGATTTAATCCAGATCAACCCGGAAAGTACTCGATTTACTTGTACTGGAACGAGTTGCCAGTTGAGAGCGCATTCCCAGTGAGAGCCCGATCGTCTGCCGAAGACTTGCCGACAACTTCTCGCGCTGTCAGAGAACCCATCCCACCACCAGTTACAACAACTTATCACACACGCGAAAAGTCGTCTGGTTCAAATGCCGATGACGAAATTAGCAGAATAATGGTGAGAGGAGATGGTCTTCACAGAGCTGTTCTCAAGGAGCACAATGAATTCATCATCGATGGAAGTGATATCAACAAGGAGGGTCGTATCACAGCAACACTTCTAGGATCAAAAGCAGACATTCCTGTGAGAATTCAACAACTCGGACATAATGTCTACAAAGCTACTTACACTCCATTGACTGGAGGCACCTATGAACTTCATATTCTTTGGAATGGAAAGCACGTTAAAGGATCACCATTTGCTGTTTCTGCAGACACATCTGCTCATTTGGCTGATCTTATTGACGTTGATGCTTCGACTCTTAAAATTGGAATAATCAATGAGAACATTAAGACATTGATTGATACTCGTCGTGCTGGATCCGGACAACTTTCAGCTTTATGTATGGGTCCGAATAAGCCCGCTTACTGTGAACTGTATGATCACAGAGATGGAACTTATGCCCTCTGTGTCAGGCCAGCTGAGATTGGAAAGCATACATTGGTTATCAAATACGACGATGAGCACGTAAAAGGAAGTCCATTCGTTGTTCACGTGTCTCTTCCACCAGATCCGTCAAAAGTTCGCGTCTACGGGCCAGGAGTTGAACATGGAATTCTTTCTCTTTTCAAATCCAATTTCGTCGTGGAAACCCGAGGTGCTGGCGCTGGACAACTGACTGTTCGTGTCAGAGGACCAAAGGGAGCCTTCAATGTGGAAATGCAAAGAGAGAAGAAGAATGAAAGAACGATTCACTGCAAGTATGAGCCAAAGGAACCAGGGGATTATCAGGTCGAAGTGAAATGGCACGGAGAGCATGTTCCAGGTAGTCCATTCCTTGTCATGATCGTCGACACCGAGAAAGAACTCTCAAGATACCTTCGCGGCGAGGCTCCGTCT\n"
     ]
    }
   ],
   "source": [
    "# Notre implémentation permet de trouver les racines du graphes (les noeuds sans prédécesseurs)\n",
    "\n",
    "roots = NotreGraph.find_roots()               #Cette étape prend environ 30 sec. sur ma machine\n",
    "\n",
    "#En partant des racines, on explore le graphe à partir des racines pour produire les semgents contiguës\n",
    "#--> Dans l'implémentation de base, aucune boucle à partir d'une même racine n'est tolérée\n",
    "\n",
    "contig = NotreGraph.walk_all(roots)\n",
    "\n",
    "print('La plus longue séquence (ou une des) contiguë est:')\n",
    "print()\n",
    "print(max(contig,key=lambda x: len(x)))                       #Impression de la plus longue séquence, comme test\n",
    "                                                                "
   ]
  },
  {
   "cell_type": "markdown",
   "metadata": {},
   "source": [
    "#### Écriture du fichier fasta"
   ]
  },
  {
   "cell_type": "code",
   "execution_count": 4,
   "metadata": {},
   "outputs": [],
   "source": [
    "## ------Note ----------\n",
    "## Le code utilisé pour écrire le fichier fasta a été trouvé et copié (légérement modifié) du site web suivant:\n",
    "## http://python.omics.wiki/biopython/examples/read-fasta\n",
    "\n",
    "## On utlise le module uuid de python pour générer des identifiants uniques rapidement\n",
    "\n",
    "import uuid\n",
    "\n",
    "file_out='contigs.fasta'\n",
    "copy_id=[]\n",
    "\n",
    "with open(file_out, 'w') as f_out:\n",
    "    for idend,sequence in zip(range(len(contig)),contig):\n",
    "        # do something (print or edit seq_record)        \n",
    "        to_print_id = str(uuid.uuid1(idend))\n",
    "        copy_id.append(to_print_id)\n",
    "        to_print_seq =  sequence\n",
    "        # write new fasta file\n",
    "        f_out.write('>' + to_print_id + ' '+'\\n' + to_print_seq+'\\n'+'\\n')"
   ]
  },
  {
   "cell_type": "markdown",
   "metadata": {},
   "source": [
    "## 4) Comparaisons des séquences et création du fichier occurences.bed"
   ]
  },
  {
   "cell_type": "code",
   "execution_count": 7,
   "metadata": {},
   "outputs": [
    {
     "name": "stdout",
     "output_type": "stream",
     "text": [
      "Travaillons sur segments contiguës suivants 0  à  1000\n",
      "Travaillons sur segments contiguës suivants 1000  à  2000\n",
      "Travaillons sur segments contiguës suivants 2000  à  3000\n",
      "Travaillons sur segments contiguës suivants 3000  à  4000\n",
      "Travaillons sur segments contiguës suivants 4000  à  5000\n",
      "Travaillons sur segments contiguës suivants 5000  à  6000\n",
      "Travaillons sur segments contiguës suivants 6000  à  7000\n",
      "Travaillons sur segments contiguës suivants 7000  à  8000\n",
      "Travaillons sur segments contiguës suivants 8000  à  9000\n",
      "Travaillons sur segments contiguës suivants 9000  à  10000\n",
      "Travaillons sur segments contiguës suivants 10000  à  11000\n",
      "Travaillons sur segments contiguës suivants 11000  à  12000\n",
      "Travaillons sur segments contiguës suivants 12000  à  13000\n",
      "Travaillons sur segments contiguës suivants 13000  à  14000\n",
      "Travaillons sur segments contiguës suivants 14000  à  15000\n",
      "Travaillons sur segments contiguës suivants 15000  à  16000\n",
      "Travaillons sur segments contiguës suivants 16000  à  17000\n",
      "Travaillons sur segments contiguës suivants 17000  à  18000\n",
      "Travaillons sur segments contiguës suivants 18000  à  19000\n",
      "Travaillons sur segments contiguës suivants 19000  à  20000\n",
      "Travaillons sur segments contiguës suivants 20000  à  21000\n",
      "Travaillons sur segments contiguës suivants 21000  à  22000\n",
      "Travaillons sur segments contiguës suivants 22000  à  23000\n",
      "Travaillons sur segments contiguës suivants 23000  à  24000\n",
      "Travaillons sur segments contiguës suivants 24000  à  25000\n",
      "Travaillons sur segments contiguës suivants 25000  à  26000\n",
      "Travaillons sur segments contiguës suivants 26000  à  27000\n",
      "Travaillons sur segments contiguës suivants 27000  à  28000\n",
      "Travaillons sur segments contiguës suivants 28000  à  29000\n",
      "Travaillons sur segments contiguës suivants 29000  à  30000\n",
      "Travaillons sur segments contiguës suivants 30000  à  31000\n",
      "Travaillons sur segments contiguës suivants 31000  à  32000\n",
      "Travaillons sur segments contiguës suivants 32000  à  33000\n",
      "Travaillons sur segments contiguës suivants 33000  à  34000\n",
      "Travaillons sur segments contiguës suivants 34000  à  35000\n",
      "Travaillons sur segments contiguës suivants 35000  à  36000\n",
      "Travaillons sur segments contiguës suivants 36000  à  37000\n",
      "Travaillons sur segments contiguës suivants 37000  à  38000\n",
      "Travaillons sur segments contiguës suivants 38000  à  39000\n",
      "Travaillons sur segments contiguës suivants 39000  à  40000\n",
      "Travaillons sur segments contiguës suivants 40000  à  41000\n",
      "Travaillons sur segments contiguës suivants 41000  à  42000\n",
      "Travaillons sur segments contiguës suivants 42000  à  43000\n",
      "Travaillons sur segments contiguës suivants 43000  à  44000\n",
      "Travaillons sur segments contiguës suivants 44000  à  45000\n",
      "Travaillons sur segments contiguës suivants 45000  à  46000\n",
      "Travaillons sur segments contiguës suivants 46000  à  47000\n",
      "Travaillons sur segments contiguës suivants 47000  à  48000\n",
      "Travaillons sur segments contiguës suivants 48000  à  49000\n",
      "Travaillons sur segments contiguës suivants 49000  à  50000\n",
      "Travaillons sur segments contiguës suivants 50000  à  51000\n",
      "Travaillons sur segments contiguës suivants 51000  à  52000\n",
      "Travaillons sur segments contiguës suivants 52000  à  53000\n",
      "Travaillons sur segments contiguës suivants 53000  à  54000\n",
      "Travaillons sur segments contiguës suivants 54000  à  55000\n",
      "Dernier strecth!!\n"
     ]
    }
   ],
   "source": [
    "file_out ='occurences_Final.bed'\n",
    "\n",
    "to_compared=read_fasta('GCF_000002985.6_WBcel235_rna.fna.gz')\n",
    "to_compare=[]\n",
    "for (ref_id,_,ref) in to_compared:\n",
    "    to_compare.append((ref_id,_,ref))\n",
    "\n",
    "def compare(seq,i):\n",
    "    to_print=[]\n",
    "    for (ref_id,_,ref) in to_compare:\n",
    "        ind = seq.find(ref)\n",
    "        if ind >0:\n",
    "            to_print.append(ref_id+'    '+str(ind+1)+'    '+str(ind+len(ref))+'    '+copy_id[i]+'\\n')\n",
    "    return to_print\n",
    "\n",
    "\n",
    "\n",
    "with open(file_out, 'w') as f_out:\n",
    "    for i in range(0,55000,1000):\n",
    "        for seq,ind in zip(contig[i:i+1000],range(i,i+1000)):\n",
    "            printing = compare(seq,ind)\n",
    "            for line in printing:\n",
    "                f_out.write(line)\n",
    "        print('Travaillons sur segments contiguës suivants',i,' à ',i+1000)\n",
    "    print('Dernier strecth!!')\n",
    "    for seq,ind in zip(contig[55000:],range(55000,55306)):\n",
    "        printing = compare(seq,ind)\n",
    "        for line in printing:\n",
    "            f_out.write(line)\n",
    "        "
   ]
  },
  {
   "cell_type": "code",
   "execution_count": null,
   "metadata": {},
   "outputs": [],
   "source": []
  },
  {
   "cell_type": "code",
   "execution_count": null,
   "metadata": {},
   "outputs": [],
   "source": []
  },
  {
   "cell_type": "code",
   "execution_count": null,
   "metadata": {},
   "outputs": [],
   "source": []
  },
  {
   "cell_type": "code",
   "execution_count": null,
   "metadata": {},
   "outputs": [],
   "source": []
  },
  {
   "cell_type": "code",
   "execution_count": 6,
   "metadata": {},
   "outputs": [
    {
     "data": {
      "text/plain": [
       "55306"
      ]
     },
     "execution_count": 6,
     "metadata": {},
     "output_type": "execute_result"
    }
   ],
   "source": [
    "len(contig)"
   ]
  },
  {
   "cell_type": "code",
   "execution_count": null,
   "metadata": {},
   "outputs": [],
   "source": []
  }
 ],
 "metadata": {
  "kernelspec": {
   "display_name": "Python [conda env:Anaconda3]",
   "language": "python",
   "name": "conda-env-Anaconda3-py"
  },
  "language_info": {
   "codemirror_mode": {
    "name": "ipython",
    "version": 3
   },
   "file_extension": ".py",
   "mimetype": "text/x-python",
   "name": "python",
   "nbconvert_exporter": "python",
   "pygments_lexer": "ipython3",
   "version": "3.6.6"
  }
 },
 "nbformat": 4,
 "nbformat_minor": 2
}
